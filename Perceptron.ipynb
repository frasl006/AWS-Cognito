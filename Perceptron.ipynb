{
  "nbformat": 4,
  "nbformat_minor": 0,
  "metadata": {
    "colab": {
      "name": "Perceptron.ipynb",
      "provenance": [],
      "collapsed_sections": [],
      "mount_file_id": "1xuaTdLOKo3Yg3y4TYXiAmj4pOKj4jLgS",
      "authorship_tag": "ABX9TyPOQyI1dzA2l1PVxQc91GYr",
      "include_colab_link": true
    },
    "kernelspec": {
      "name": "python3",
      "display_name": "Python 3"
    }
  },
  "cells": [
    {
      "cell_type": "markdown",
      "metadata": {
        "id": "view-in-github",
        "colab_type": "text"
      },
      "source": [
        "<a href=\"https://colab.research.google.com/github/frasl006/AWS-Cognito/blob/master/Perceptron.ipynb\" target=\"_parent\"><img src=\"https://colab.research.google.com/assets/colab-badge.svg\" alt=\"Open In Colab\"/></a>"
      ]
    },
    {
      "cell_type": "code",
      "metadata": {
        "id": "0kCswLrjfOHg",
        "colab_type": "code",
        "colab": {
          "base_uri": "https://localhost:8080/",
          "height": 121
        },
        "outputId": "08fdc161-9c82-439c-d220-50113a14c3d1"
      },
      "source": [
        "from google.colab import drive\n",
        "drive.mount('/content/drive')"
      ],
      "execution_count": 2,
      "outputs": [
        {
          "output_type": "stream",
          "text": [
            "Go to this URL in a browser: https://accounts.google.com/o/oauth2/auth?client_id=947318989803-6bn6qk8qdgf4n4g3pfee6491hc0brc4i.apps.googleusercontent.com&redirect_uri=urn%3aietf%3awg%3aoauth%3a2.0%3aoob&scope=email%20https%3a%2f%2fwww.googleapis.com%2fauth%2fdocs.test%20https%3a%2f%2fwww.googleapis.com%2fauth%2fdrive%20https%3a%2f%2fwww.googleapis.com%2fauth%2fdrive.photos.readonly%20https%3a%2f%2fwww.googleapis.com%2fauth%2fpeopleapi.readonly&response_type=code\n",
            "\n",
            "Enter your authorization code:\n",
            "··········\n",
            "Mounted at /content/drive\n"
          ],
          "name": "stdout"
        }
      ]
    },
    {
      "cell_type": "code",
      "metadata": {
        "id": "16fFsiFPfigX",
        "colab_type": "code",
        "colab": {}
      },
      "source": [
        "import pandas as pd\n",
        "import numpy as np\n",
        "import matplotlib.pyplot as plt\n",
        "\n",
        "\n",
        "path = \"/content/drive/My Drive/Colab Notebooks/DiabetesData/KaggleDiabetes.csv\"\n",
        "df = pd.read_csv(path)\n"
      ],
      "execution_count": 10,
      "outputs": []
    },
    {
      "cell_type": "code",
      "metadata": {
        "id": "3Mhmpd9CIKP8",
        "colab_type": "code",
        "colab": {}
      },
      "source": [
        "def perceptron_train(x_data, y_data, z, lr, epoch):\n",
        "  #Defualt weights\n",
        "  weights = np.zeros(len(x[0]))\n",
        "  n = 0\n",
        "\n",
        "  #Error Variables\n",
        "  yHat_vec = np.ones(len(y))\n",
        "  loss = np.ones(len(y))\n",
        "  cost = []\n",
        "\n",
        "  #Keep iterating to 't'\n",
        "  while n < t:\n",
        "    for i in range(0,len(x)):\n",
        "      #Transpose x and w\n",
        "      f = np.dot(x_data[i],weights)\n",
        "\n",
        "      #Activation function threshold\n",
        "      if f >= z:\n",
        "        #Predicted is yHat\n",
        "        predicted = 1\n",
        "      else:\n",
        "        predicted = 0\n",
        "      yHat_vec[i] = predicted\n",
        "\n",
        "      #Update the weights\n",
        "      for j in range(0, len(weights)):\n",
        "        weights = weights[j] + lr(y_data[i]-yhat)*x_data[i][j]\n",
        "    n+=1\n",
        "    #cost value\n",
        "    for i in range(0, len(y_data)):\n",
        "      loss[i] = (y_data[i]-yHat_vec[i])**2\n",
        "    cost.append(0.5*np.sum(loss))\n",
        "  return weights, cost\n",
        "\n",
        "\n"
      ],
      "execution_count": 43,
      "outputs": []
    }
  ]
}